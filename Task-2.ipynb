{
 "cells": [
  {
   "cell_type": "code",
   "execution_count": 2,
   "id": "24800fe8-3f5a-4fb2-b68f-27b25e8fee87",
   "metadata": {},
   "outputs": [],
   "source": [
    "import pandas as pd\n",
    "import numpy as np\n",
    "import matplotlib.pyplot as plt\n",
    "import seaborn as sns"
   ]
  },
  {
   "cell_type": "code",
   "execution_count": 3,
   "id": "e8352e93-3e94-4bb4-84a4-b473197fd18b",
   "metadata": {},
   "outputs": [
    {
     "name": "stdout",
     "output_type": "stream",
     "text": [
      "     CustomerID     Product                Price Quantity       City  \\\n",
      "0          1052     Desktop                  NaN        4  Bangalore   \n",
      "1          1041     Desktop                  NaN        3      Delhi   \n",
      "2          1057  Smartphone  forty-five thousand        2  Bangalore   \n",
      "3          1038      Tablet                45000        1    Chennai   \n",
      "4          1013  Smartphone                45000      NaN     Mumbai   \n",
      "..          ...         ...                  ...      ...        ...   \n",
      "120        1074      Laptop                45000      NaN  Bangalore   \n",
      "121        1017     Desktop                45000      NaN       Pune   \n",
      "122        1075     Desktop                30000        1       Pune   \n",
      "123        1008      Laptop                60000        1    Chennai   \n",
      "124        1073      Laptop                15000      NaN      Delhi   \n",
      "\n",
      "    PurchaseDate  \n",
      "0       30-06-21  \n",
      "1       21-01-23  \n",
      "2       06-04-23  \n",
      "3       05-07-23  \n",
      "4       11-04-22  \n",
      "..           ...  \n",
      "120     14-08-21  \n",
      "121     09-08-22  \n",
      "122     28-09-21  \n",
      "123     13-09-21  \n",
      "124     01-01-21  \n",
      "\n",
      "[125 rows x 6 columns]\n"
     ]
    }
   ],
   "source": [
    "ds=pd.read_csv(\"D:\\\\Internship\\\\Machine learning\\\\product_data-task2.xlsx.csv\")\n",
    "print(ds)"
   ]
  },
  {
   "cell_type": "code",
   "execution_count": 5,
   "id": "4c280179-9d2a-43cf-af1e-cf77c7396f75",
   "metadata": {},
   "outputs": [
    {
     "data": {
      "text/plain": [
       "count        125\n",
       "unique         4\n",
       "top       Laptop\n",
       "freq          45\n",
       "Name: Product, dtype: object"
      ]
     },
     "execution_count": 5,
     "metadata": {},
     "output_type": "execute_result"
    }
   ],
   "source": [
    "ds['Product'].describe()"
   ]
  },
  {
   "cell_type": "code",
   "execution_count": 6,
   "id": "a3916775-5d53-425e-aa4c-a8368740fac4",
   "metadata": {},
   "outputs": [],
   "source": [
    "ds[\"Price\"]=pd.to_numeric(ds[\"Price\"],errors='coerce')"
   ]
  },
  {
   "cell_type": "code",
   "execution_count": 19,
   "id": "44f78bea-7713-45f0-9589-489480cd590f",
   "metadata": {},
   "outputs": [
    {
     "name": "stdout",
     "output_type": "stream",
     "text": [
      "36176\n",
      "0      36176.470588\n",
      "1      36176.470588\n",
      "2      36176.470588\n",
      "3      45000.000000\n",
      "4      45000.000000\n",
      "           ...     \n",
      "120    45000.000000\n",
      "121    45000.000000\n",
      "122    30000.000000\n",
      "123    60000.000000\n",
      "124    15000.000000\n",
      "Name: Price, Length: 125, dtype: float64\n"
     ]
    }
   ],
   "source": [
    "x=ds[\"Price\"].mean()\n",
    "print(int(x))\n",
    "ds[\"Price\"].fillna(x)\n",
    "print(ds[\"Price\"])"
   ]
  },
  {
   "cell_type": "code",
   "execution_count": 13,
   "id": "0f9d8a38-2607-42e6-bdef-0f1854695a0e",
   "metadata": {},
   "outputs": [
    {
     "name": "stdout",
     "output_type": "stream",
     "text": [
      "0      4\n",
      "1      3\n",
      "2      2\n",
      "3      1\n",
      "4      1\n",
      "      ..\n",
      "120    1\n",
      "121    1\n",
      "122    1\n",
      "123    1\n",
      "124    1\n",
      "Name: Quantity, Length: 125, dtype: object\n"
     ]
    }
   ],
   "source": [
    "y=ds[\"Quantity\"].mode()[0]\n",
    "ds[\"Quantity\"].fillna(y,inplace= True)\n",
    "print(ds[\"Quantity\"])"
   ]
  },
  {
   "cell_type": "code",
   "execution_count": 14,
   "id": "178fa340-b064-4f67-bfd6-68b9f7af18bc",
   "metadata": {},
   "outputs": [
    {
     "data": {
      "text/plain": [
       "count           125\n",
       "unique            5\n",
       "top       Bangalore\n",
       "freq             27\n",
       "Name: City, dtype: object"
      ]
     },
     "execution_count": 14,
     "metadata": {},
     "output_type": "execute_result"
    }
   ],
   "source": [
    "ds['City'].describe()"
   ]
  },
  {
   "cell_type": "code",
   "execution_count": 20,
   "id": "38ef53c6-f397-432d-8f45-5305035ec429",
   "metadata": {},
   "outputs": [
    {
     "name": "stdout",
     "output_type": "stream",
     "text": [
      "     CustomerID     Product         Price Quantity       City PurchaseDate\n",
      "0          1052     Desktop  36176.470588        4  Bangalore     30-06-21\n",
      "1          1041     Desktop  36176.470588        3      Delhi     21-01-23\n",
      "2          1057  Smartphone  36176.470588        2  Bangalore     06-04-23\n",
      "3          1038      Tablet  45000.000000        1    Chennai     05-07-23\n",
      "4          1013  Smartphone  45000.000000        1     Mumbai     11-04-22\n",
      "..          ...         ...           ...      ...        ...          ...\n",
      "120        1074      Laptop  45000.000000        1  Bangalore     14-08-21\n",
      "121        1017     Desktop  45000.000000        1       Pune     09-08-22\n",
      "122        1075     Desktop  30000.000000        1       Pune     28-09-21\n",
      "123        1008      Laptop  60000.000000        1    Chennai     13-09-21\n",
      "124        1073      Laptop  15000.000000        1      Delhi     01-01-21\n",
      "\n",
      "[125 rows x 6 columns]\n"
     ]
    }
   ],
   "source": [
    "print(ds)"
   ]
  },
  {
   "cell_type": "code",
   "execution_count": null,
   "id": "720546ad-5013-4ab1-8629-36752821f6cd",
   "metadata": {},
   "outputs": [],
   "source": []
  }
 ],
 "metadata": {
  "kernelspec": {
   "display_name": "Python 3 (ipykernel)",
   "language": "python",
   "name": "python3"
  },
  "language_info": {
   "codemirror_mode": {
    "name": "ipython",
    "version": 3
   },
   "file_extension": ".py",
   "mimetype": "text/x-python",
   "name": "python",
   "nbconvert_exporter": "python",
   "pygments_lexer": "ipython3",
   "version": "3.12.7"
  }
 },
 "nbformat": 4,
 "nbformat_minor": 5
}
